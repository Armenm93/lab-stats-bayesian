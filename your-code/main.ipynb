{
 "cells": [
  {
   "cell_type": "markdown",
   "metadata": {},
   "source": [
    "# Intro to Bayesian Statistics Lab\n",
    "\n",
    "Complete the following set of exercises to solidify your knowledge of Bayesian statistics and Bayesian data analysis."
   ]
  },
  {
   "cell_type": "code",
   "execution_count": null,
   "metadata": {},
   "outputs": [],
   "source": [
    "import pandas as pd\n",
    "import numpy as np\n",
    "import matplotlib.pyplot as plt"
   ]
  },
  {
   "cell_type": "markdown",
   "metadata": {},
   "source": [
    "## 1. Cookie Problem\n",
    "\n",
    "Suppose we have two bowls of cookies. Bowl 1 contains 30 vanilla cookies and 10 chocolate cookies. Bowl 2 contains 20 of each. You randomly pick one cookie out of one of the bowls, and it is vanilla. Use Bayes Theorem to calculate the probability that the vanilla cookie you picked came from Bowl 1?"
   ]
  },
  {
   "cell_type": "code",
   "execution_count": null,
   "metadata": {},
   "outputs": [],
   "source": [
    "# Given values\n",
    "P_B_given_A1 = 30 / 40  # Probability of picking a vanilla cookie from Bowl 1\n",
    "P_B_given_A2 = 20 / 40  # Probability of picking a vanilla cookie from Bowl 2\n",
    "P_A1 = 1 / 2  # Probability of picking from Bowl 1\n",
    "P_A2 = 1 / 2  # Probability of picking from Bowl 2\n",
    "\n",
    "# Calculating P(B)\n",
    "P_B = (P_B_given_A1 * P_A1) + (P_B_given_A2 * P_A2)\n",
    "\n",
    "# Using Bayes' Theorem to calculate P(A1|B)\n",
    "P_A1_given_B = (P_B_given_A1 * P_A1) / P_B\n",
    "\n",
    "P_A1_given_B"
   ]
  },
  {
   "cell_type": "markdown",
   "metadata": {},
   "source": [
    "What is the probability that it came from Bowl 2?"
   ]
  },
  {
   "cell_type": "code",
   "execution_count": null,
   "metadata": {},
   "outputs": [],
   "source": [
    "# Calculate P(A2|B) using the complement of P(A1|B)\n",
    "P_A2_given_B = 1 - P_A1_given_B\n",
    "\n",
    "P_A2_given_B"
   ]
  },
  {
   "cell_type": "markdown",
   "metadata": {},
   "source": [
    "What if the cookie you had picked was chocolate? What are the probabilities that the chocolate cookie came from Bowl 1 and Bowl 2 respectively?"
   ]
  },
  {
   "cell_type": "code",
   "execution_count": null,
   "metadata": {},
   "outputs": [],
   "source": [
    "# Adjusted probabilities for picking a chocolate cookie\n",
    "P_B_prime_given_A1 = 10 / 40  # Probability of picking a chocolate cookie from Bowl 1\n",
    "P_B_prime_given_A2 = 20 / 40  # Probability of picking a chocolate cookie from Bowl 2\n",
    "\n",
    "# Calculating P(B'), the total probability of picking a chocolate cookie\n",
    "P_B_prime = (P_B_prime_given_A1 * P_A1) + (P_B_prime_given_A2 * P_A2)\n",
    "\n",
    "# Using Bayes' Theorem to calculate P(A1|B') and P(A2|B')\n",
    "P_A1_given_B_prime = (P_B_prime_given_A1 * P_A1) / P_B_prime\n",
    "P_A2_given_B_prime = (P_B_prime_given_A2 * P_A2) / P_B_prime\n",
    "\n",
    "P_A1_given_B_prime, P_A2_given_B_prime\n"
   ]
  },
  {
   "cell_type": "markdown",
   "metadata": {},
   "source": [
    "## 2. Candy Problem\n",
    "\n",
    "Suppose you have two bags of candies:\n",
    "\n",
    "- In Bag 1, the mix of colors is:\n",
    "    - Brown - 30%\n",
    "    - Yellow - 20%\n",
    "    - Red - 20%\n",
    "    - Green - 10%\n",
    "    - Orange - 10%\n",
    "    - Tan - 10%\n",
    "    \n",
    "- In Bag 2, the mix of colors is:\n",
    "    - Blue - 24%\n",
    "    - Green - 20%\n",
    "    - Orange - 16%\n",
    "    - Yellow - 14%\n",
    "    - Red - 13%\n",
    "    - Brown - 13%\n",
    "    \n",
    "Not knowing which bag is which, you randomly draw one candy from each bag. One is yellow and one is green. What is the probability that the yellow one came from the Bag 1?\n",
    "\n",
    "*Hint: For the likelihoods, you will need to multiply the probabilities of drawing yellow from one bag and green from the other bag and vice versa.*"
   ]
  },
  {
   "cell_type": "code",
   "execution_count": null,
   "metadata": {},
   "outputs": [],
   "source": [
    "# Probabilities of drawing specific colors from each bag\n",
    "prob_yellow_bag1 = 0.20\n",
    "prob_green_bag2 = 0.20\n",
    "prob_green_bag1 = 0.10\n",
    "prob_yellow_bag2 = 0.14\n",
    "\n",
    "# Calculating the probabilities for the events\n",
    "P_Yellow_Bag1_And_Green_Bag2 = prob_yellow_bag1 * prob_green_bag2\n",
    "P_Green_Bag1_And_Yellow_Bag2 = prob_green_bag1 * prob_yellow_bag2\n",
    "\n",
    "# Total probability of drawing one yellow and one green candy\n",
    "P_B = P_Yellow_Bag1_And_Green_Bag2 + P_Green_Bag1_And_Yellow_Bag2\n",
    "\n",
    "# Since P(A) = 0.5 (prior probability that the yellow candy came from Bag 1), we can simplify P(A|B) calculation\n",
    "P_A_given_B = P_Yellow_Bag1_And_Green_Bag2 / P_B\n",
    "\n",
    "P_A_given_B"
   ]
  },
  {
   "cell_type": "markdown",
   "metadata": {},
   "source": [
    "What is the probability that the yellow candy came from Bag 2?"
   ]
  },
  {
   "cell_type": "code",
   "execution_count": null,
   "metadata": {},
   "outputs": [],
   "source": [
    "# Calculating the probability that the yellow candy came from Bag 2\n",
    "P_yellow_from_Bag2 = 1 - P_A_given_B\n",
    "\n",
    "P_yellow_from_Bag2\n"
   ]
  },
  {
   "cell_type": "markdown",
   "metadata": {},
   "source": [
    "What are the probabilities that the green one came from Bag 1 and Bag 2 respectively?"
   ]
  },
  {
   "cell_type": "code",
   "execution_count": null,
   "metadata": {},
   "outputs": [],
   "source": [
    "# Assuming P_yellow_from_Bag2 and P_A_given_B are the probabilities calculated earlier\n",
    "\n",
    "# Probability that the green candy came from Bag 1 is equivalent to the probability\n",
    "# that the yellow candy came from Bag 2\n",
    "P_green_from_Bag1 = P_yellow_from_Bag2\n",
    "\n",
    "# Probability that the green candy came from Bag 2 is equivalent to the probability\n",
    "# that the yellow candy came from Bag 1\n",
    "P_green_from_Bag2 = P_A_given_B\n",
    "\n",
    "print(f\"Probability that the green candy came from Bag 1: {P_green_from_Bag1}\")\n",
    "print(f\"Probability that the green candy came from Bag 2: {P_green_from_Bag2}\")\n"
   ]
  },
  {
   "cell_type": "markdown",
   "metadata": {},
   "source": [
    "## 3. Monty Hall Problem\n",
    "\n",
    "Suppose you are a contestant on the popular game show *Let's Make a Deal*. The host of the show (Monty Hall) presents you with three doors - Door A, Door B, and Door C. He tells you that there is a sports car behind one of them and if you choose the correct one, you win the car!\n",
    "\n",
    "You select Door A, but then Monty makes things a little more interesting. He opens Door B to reveal that there is no sports car behind it and asks you if you would like to stick with your choice of Door A or switch your choice to Door C. Given this new information, what are the probabilities of you winning the car if you stick with Door A versus if you switch to Door C?"
   ]
  },
  {
   "cell_type": "code",
   "execution_count": null,
   "metadata": {},
   "outputs": [],
   "source": [
    "def monty_hall_simulation(num_trials=10000):\n",
    "    import random\n",
    "\n",
    "    win_by_staying = 0\n",
    "    win_by_switching = 0\n",
    "\n",
    "    for _ in range(num_trials):\n",
    "        # There are three doors (0, 1, 2), one of them hides a car\n",
    "        car_behind = random.randint(0, 2)\n",
    "        contestant_choice = random.randint(0, 2)\n",
    "\n",
    "        # Monty opens a door that was not picked by the contestant and does not hide the car\n",
    "        possible_doors_to_open = [door for door in range(3) if door != contestant_choice and door != car_behind]\n",
    "        door_opened_by_monty = random.choice(possible_doors_to_open)\n",
    "\n",
    "        # If the contestant stays with the original choice\n",
    "        if contestant_choice == car_behind:\n",
    "            win_by_staying += 1\n",
    "\n",
    "        # If the contestant switches (the only other door not opened and not initially chosen)\n",
    "        else:\n",
    "            win_by_switching += 1\n",
    "\n",
    "    probability_of_winning_by_staying = win_by_staying / num_trials\n",
    "    probability_of_winning_by_switching = win_by_switching / num_trials\n",
    "\n",
    "    return probability_of_winning_by_staying, probability_of_winning_by_switching\n",
    "\n",
    "# Simulate the Monty Hall problem\n",
    "monty_hall_simulation()\n"
   ]
  },
  {
   "cell_type": "markdown",
   "metadata": {},
   "source": [
    "## 4. Bayesian Analysis \n",
    "\n",
    "Suppose you work for a landscaping company, and they want to advertise their service online. They create an ad and sit back waiting for the money to roll in. On the first day, the ad sends 100 visitors to the site and 14 of them sign up for landscaping services. Create a generative model to come up with the posterior distribution and produce a visualization of what the posterior distribution would look like given the observed data."
   ]
  },
  {
   "cell_type": "code",
   "execution_count": null,
   "metadata": {},
   "outputs": [],
   "source": [
    "import numpy as np\n",
    "import matplotlib.pyplot as plt\n",
    "from scipy.stats import beta\n",
    "\n",
    "# Prior distribution parameters (assuming a uniform prior for simplicity)\n",
    "alpha_prior = 1\n",
    "beta_prior = 1\n",
    "\n",
    "# Observed data\n",
    "visitors = 100\n",
    "signups = 14\n",
    "\n",
    "# Posterior distribution parameters\n",
    "alpha_post = alpha_prior + signups\n",
    "beta_post = beta_prior + visitors - signups\n",
    "\n",
    "# Generate the posterior distribution\n",
    "x = np.linspace(0, 1, 1000)\n",
    "posterior = beta.pdf(x, alpha_post, beta_post)\n",
    "\n",
    "# Plotting\n",
    "plt.figure(figsize=(10, 6))\n",
    "plt.plot(x, posterior, label='Posterior distribution')\n",
    "plt.title('Posterior Distribution of Conversion Rate')\n",
    "plt.xlabel('Conversion rate')\n",
    "plt.ylabel('Density')\n",
    "plt.legend()\n",
    "plt.grid(True)\n",
    "plt.show()\n"
   ]
  },
  {
   "cell_type": "markdown",
   "metadata": {},
   "source": [
    "Produce a set of descriptive statistics for the posterior distribution."
   ]
  },
  {
   "cell_type": "code",
   "execution_count": null,
   "metadata": {},
   "outputs": [],
   "source": [
    "# Descriptive statistics for the posterior distribution\n",
    "mean = beta.mean(alpha_post, beta_post)\n",
    "variance = beta.var(alpha_post, beta_post)\n",
    "std_dev = beta.std(alpha_post, beta_post)\n",
    "median = beta.median(alpha_post, beta_post)\n",
    "mode = (alpha_post - 1) / (alpha_post + beta_post - 2)  # Mode formula for beta distribution\n",
    "confidence_interval = beta.interval(0.95, alpha_post, beta_post)\n",
    "\n",
    "descriptive_stats = {\n",
    "    \"Mean\": mean,\n",
    "    \"Variance\": variance,\n",
    "    \"Standard Deviation\": std_dev,\n",
    "    \"Median\": median,\n",
    "    \"Mode\": mode,\n",
    "    \"95% Confidence Interval\": confidence_interval\n",
    "}\n",
    "\n",
    "descriptive_stats\n"
   ]
  },
  {
   "cell_type": "markdown",
   "metadata": {},
   "source": [
    "What is the 90% credible interval range?"
   ]
  },
  {
   "cell_type": "code",
   "execution_count": null,
   "metadata": {},
   "outputs": [],
   "source": [
    "# 90% Credible interval for the posterior distribution\n",
    "credible_interval_90 = beta.interval(0.90, alpha_post, beta_post)\n",
    "\n",
    "credible_interval_90\n"
   ]
  },
  {
   "cell_type": "markdown",
   "metadata": {},
   "source": [
    "What is the Maximum Likelihood Estimate?"
   ]
  },
  {
   "cell_type": "code",
   "execution_count": null,
   "metadata": {},
   "outputs": [],
   "source": [
    "# Calculate the Maximum Likelihood Estimate (MLE) for the conversion rate\n",
    "mle = signups / visitors\n",
    "\n",
    "mle\n"
   ]
  }
 ],
 "metadata": {
  "kernelspec": {
   "display_name": "Python 3",
   "language": "python",
   "name": "python3"
  },
  "language_info": {
   "codemirror_mode": {
    "name": "ipython",
    "version": 3
   },
   "file_extension": ".py",
   "mimetype": "text/x-python",
   "name": "python",
   "nbconvert_exporter": "python",
   "pygments_lexer": "ipython3",
   "version": "3.7.2"
  }
 },
 "nbformat": 4,
 "nbformat_minor": 2
}
